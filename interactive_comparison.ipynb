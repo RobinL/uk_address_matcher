{
 "cells": [
  {
   "cell_type": "markdown",
   "metadata": {},
   "source": [
    "[![Open In Colab](https://colab.research.google.com/assets/colab-badge.svg)](https://colab.research.google.com/github/RobinL/uk_address_matcher/blob/main/interactive_comparison.ipynb)\n"
   ]
  },
  {
   "cell_type": "code",
   "execution_count": 1,
   "metadata": {},
   "outputs": [],
   "source": [
    "!pip install --pre uk_address_matcher\n",
    "!pip install git+https://github.com/moj-analytical-services/splink.git@2580-improve-runtimes-but-pushing-up-common-case-statements-into-precomputed-values\n"
   ]
  },
  {
   "cell_type": "code",
   "execution_count": 4,
   "metadata": {},
   "outputs": [
    {
     "name": "stdout",
     "output_type": "stream",
     "text": [
      "┌────────────────────┬───────────────────┬──────────────────┬──────────────────┬─────────────┬─────────────┬───────────────────┬───────────────────┬──────────────────────┬────────────────────┬───┬──────────────────────┬──────────────────────┬────────────┬────────────┬────────────────┬─────────────┬──────────────────────┬──────────────────────┬───────────┬──────────────────────┐\n",
      "│    match_weight    │ match_probability │ source_dataset_l │ source_dataset_r │ unique_id_l │ unique_id_r │ flat_positional_l │ flat_positional_r │ gamma_flat_positio…  │ bf_flat_positional │ … │ gamma_common_end_t…  │ bf_common_end_tokens │ postcode_l │ postcode_r │ gamma_postcode │ bf_postcode │ original_address_c…  │ original_address_c…  │ match_key │ found_by_blocking_…  │\n",
      "│       double       │      double       │     varchar      │     varchar      │   varchar   │   varchar   │      varchar      │      varchar      │        int32         │       double       │   │        int32         │        double        │  varchar   │  varchar   │     int32      │   double    │       varchar        │       varchar        │   int32   │       boolean        │\n",
      "├────────────────────┼───────────────────┼──────────────────┼──────────────────┼─────────────┼─────────────┼───────────────────┼───────────────────┼──────────────────────┼────────────────────┼───┼──────────────────────┼──────────────────────┼────────────┼────────────┼────────────────┼─────────────┼──────────────────────┼──────────────────────┼───────────┼──────────────────────┤\n",
      "│ 14.459250603297358 │ 0.999955607196388 │ dataset 1        │ dataset 2        │ 1           │ 2           │ NULL              │ NULL              │                   -1 │                1.0 │ … │                    1 │                  4.0 │ B12 0AB    │ B12 0AB    │              5 │   3000000.0 │ 11A SPITFIRE COURT…  │ FLAT A 11 SPITFIRE…  │         0 │ true                 │\n",
      "├────────────────────┴───────────────────┴──────────────────┴──────────────────┴─────────────┴─────────────┴───────────────────┴───────────────────┴──────────────────────┴────────────────────┴───┴──────────────────────┴──────────────────────┴────────────┴────────────┴────────────────┴─────────────┴──────────────────────┴──────────────────────┴───────────┴──────────────────────┤\n",
      "│ 1 rows                                                                                                                                                                                                                                                                                                                                                             49 columns (20 shown) │\n",
      "└──────────────────────────────────────────────────────────────────────────────────────────────────────────────────────────────────────────────────────────────────────────────────────────────────────────────────────────────────────────────────────────────────────────────────────────────────────────────────────────────────────────────────────────────────────────────────────────┘\n",
      "\n"
     ]
    },
    {
     "data": {
      "text/html": [
       "\n",
       "<style>\n",
       "  #altair-viz-b96c5422d2e84256b9b6ca2f021c8360.vega-embed {\n",
       "    width: 100%;\n",
       "    display: flex;\n",
       "  }\n",
       "\n",
       "  #altair-viz-b96c5422d2e84256b9b6ca2f021c8360.vega-embed details,\n",
       "  #altair-viz-b96c5422d2e84256b9b6ca2f021c8360.vega-embed details summary {\n",
       "    position: relative;\n",
       "  }\n",
       "</style>\n",
       "<div id=\"altair-viz-b96c5422d2e84256b9b6ca2f021c8360\"></div>\n",
       "<script type=\"text/javascript\">\n",
       "  var VEGA_DEBUG = (typeof VEGA_DEBUG == \"undefined\") ? {} : VEGA_DEBUG;\n",
       "  (function(spec, embedOpt){\n",
       "    let outputDiv = document.currentScript.previousElementSibling;\n",
       "    if (outputDiv.id !== \"altair-viz-b96c5422d2e84256b9b6ca2f021c8360\") {\n",
       "      outputDiv = document.getElementById(\"altair-viz-b96c5422d2e84256b9b6ca2f021c8360\");\n",
       "    }\n",
       "\n",
       "    const paths = {\n",
       "      \"vega\": \"https://cdn.jsdelivr.net/npm/vega@5?noext\",\n",
       "      \"vega-lib\": \"https://cdn.jsdelivr.net/npm/vega-lib?noext\",\n",
       "      \"vega-lite\": \"https://cdn.jsdelivr.net/npm/vega-lite@5.20.1?noext\",\n",
       "      \"vega-embed\": \"https://cdn.jsdelivr.net/npm/vega-embed@6?noext\",\n",
       "    };\n",
       "\n",
       "    function maybeLoadScript(lib, version) {\n",
       "      var key = `${lib.replace(\"-\", \"\")}_version`;\n",
       "      return (VEGA_DEBUG[key] == version) ?\n",
       "        Promise.resolve(paths[lib]) :\n",
       "        new Promise(function(resolve, reject) {\n",
       "          var s = document.createElement('script');\n",
       "          document.getElementsByTagName(\"head\")[0].appendChild(s);\n",
       "          s.async = true;\n",
       "          s.onload = () => {\n",
       "            VEGA_DEBUG[key] = version;\n",
       "            return resolve(paths[lib]);\n",
       "          };\n",
       "          s.onerror = () => reject(`Error loading script: ${paths[lib]}`);\n",
       "          s.src = paths[lib];\n",
       "        });\n",
       "    }\n",
       "\n",
       "    function showError(err) {\n",
       "      outputDiv.innerHTML = `<div class=\"error\" style=\"color:red;\">${err}</div>`;\n",
       "      throw err;\n",
       "    }\n",
       "\n",
       "    function displayChart(vegaEmbed) {\n",
       "      vegaEmbed(outputDiv, spec, embedOpt)\n",
       "        .catch(err => showError(`Javascript Error: ${err.message}<br>This usually means there's a typo in your chart specification. See the javascript console for the full traceback.`));\n",
       "    }\n",
       "\n",
       "    if(typeof define === \"function\" && define.amd) {\n",
       "      requirejs.config({paths});\n",
       "      let deps = [\"vega-embed\"];\n",
       "      require(deps, displayChart, err => showError(`Error loading script: ${err.message}`));\n",
       "    } else {\n",
       "      maybeLoadScript(\"vega\", \"5\")\n",
       "        .then(() => maybeLoadScript(\"vega-lite\", \"5.20.1\"))\n",
       "        .then(() => maybeLoadScript(\"vega-embed\", \"6\"))\n",
       "        .catch(showError)\n",
       "        .then(() => displayChart(vegaEmbed));\n",
       "    }\n",
       "  })({\"config\": {\"view\": {\"continuousWidth\": 400, \"continuousHeight\": 300}}, \"layer\": [{\"layer\": [{\"mark\": \"rule\", \"encoding\": {\"color\": {\"value\": \"black\"}, \"size\": {\"value\": 0.5}, \"y\": {\"field\": \"zero\", \"type\": \"quantitative\"}}}, {\"mark\": {\"type\": \"bar\", \"width\": 60}, \"encoding\": {\"color\": {\"condition\": {\"test\": \"(datum.log2_bayes_factor < 0)\", \"value\": \"red\"}, \"value\": \"green\"}, \"opacity\": {\"condition\": {\"test\": \"datum.column_name == 'Prior match weight' || datum.column_name == 'Final score'\", \"value\": 1}, \"value\": 0.5}, \"tooltip\": [{\"field\": \"column_name\", \"title\": \"Comparison column\", \"type\": \"nominal\"}, {\"field\": \"value_l\", \"title\": \"Value (L)\", \"type\": \"nominal\"}, {\"field\": \"value_r\", \"title\": \"Value (R)\", \"type\": \"nominal\"}, {\"field\": \"label_for_charts\", \"title\": \"Label\", \"type\": \"ordinal\"}, {\"field\": \"sql_condition\", \"title\": \"SQL condition\", \"type\": \"nominal\"}, {\"field\": \"comparison_vector_value\", \"title\": \"Comparison vector value\", \"type\": \"nominal\"}, {\"field\": \"bayes_factor\", \"format\": \",.4f\", \"title\": \"Bayes factor = m/u\", \"type\": \"quantitative\"}, {\"field\": \"log2_bayes_factor\", \"format\": \",.4f\", \"title\": \"Match weight = log2(m/u)\", \"type\": \"quantitative\"}, {\"field\": \"prob\", \"format\": \".4f\", \"title\": \"Cumulative match probability\", \"type\": \"quantitative\"}, {\"field\": \"bayes_factor_description\", \"title\": \"Match weight description\", \"type\": \"nominal\"}], \"x\": {\"axis\": {\"grid\": true, \"labelAlign\": \"center\", \"labelAngle\": -20, \"labelExpr\": \"datum.value == 'Prior' || datum.value == 'Final score' ? '' : datum.value\", \"labelPadding\": 10, \"tickBand\": \"extent\", \"title\": \"Column\"}, \"field\": \"column_name\", \"sort\": {\"field\": \"bar_sort_order\", \"order\": \"ascending\"}, \"type\": \"nominal\"}, \"y\": {\"axis\": {\"grid\": false, \"orient\": \"left\", \"title\": \"Match Weight\"}, \"field\": \"previous_sum\", \"type\": \"quantitative\"}, \"y2\": {\"field\": \"sum\"}}}, {\"mark\": {\"type\": \"text\", \"fontWeight\": \"bold\"}, \"encoding\": {\"color\": {\"value\": \"white\"}, \"text\": {\"condition\": {\"test\": \"abs(datum.log2_bayes_factor) > 1\", \"field\": \"log2_bayes_factor\", \"format\": \".2f\", \"type\": \"nominal\"}, \"value\": \"\"}, \"x\": {\"axis\": {\"labelAngle\": -20, \"title\": \"Column\"}, \"field\": \"column_name\", \"sort\": {\"field\": \"bar_sort_order\", \"order\": \"ascending\"}, \"type\": \"nominal\"}, \"y\": {\"axis\": {\"orient\": \"left\"}, \"field\": \"center\", \"type\": \"quantitative\"}}}, {\"mark\": {\"type\": \"text\", \"baseline\": \"bottom\", \"dy\": -25, \"fontWeight\": \"bold\"}, \"encoding\": {\"color\": {\"value\": \"black\"}, \"text\": {\"field\": \"column_name\", \"type\": \"nominal\"}, \"x\": {\"axis\": {\"labelAngle\": -20, \"title\": \"Column\"}, \"field\": \"column_name\", \"sort\": {\"field\": \"bar_sort_order\", \"order\": \"ascending\"}, \"type\": \"nominal\"}, \"y\": {\"field\": \"sum_top\", \"type\": \"quantitative\"}}}, {\"mark\": {\"type\": \"text\", \"baseline\": \"bottom\", \"dy\": -13, \"fontSize\": 8}, \"encoding\": {\"color\": {\"value\": \"grey\"}, \"text\": {\"field\": \"value_l\", \"type\": \"nominal\"}, \"x\": {\"axis\": {\"labelAngle\": -20, \"title\": \"Column\"}, \"field\": \"column_name\", \"sort\": {\"field\": \"bar_sort_order\", \"order\": \"ascending\"}, \"type\": \"nominal\"}, \"y\": {\"field\": \"sum_top\", \"type\": \"quantitative\"}}}, {\"mark\": {\"type\": \"text\", \"baseline\": \"bottom\", \"dy\": -5, \"fontSize\": 8}, \"encoding\": {\"color\": {\"value\": \"grey\"}, \"text\": {\"field\": \"value_r\", \"type\": \"nominal\"}, \"x\": {\"axis\": {\"labelAngle\": -20, \"title\": \"Column\"}, \"field\": \"column_name\", \"sort\": {\"field\": \"bar_sort_order\", \"order\": \"ascending\"}, \"type\": \"nominal\"}, \"y\": {\"field\": \"sum_top\", \"type\": \"quantitative\"}}}]}, {\"mark\": {\"type\": \"rule\", \"color\": \"black\", \"strokeWidth\": 2, \"x2Offset\": 30, \"xOffset\": -30}, \"encoding\": {\"x\": {\"axis\": {\"labelAngle\": -20, \"title\": \"Column\"}, \"field\": \"column_name\", \"sort\": {\"field\": \"bar_sort_order\", \"order\": \"ascending\"}, \"type\": \"nominal\"}, \"x2\": {\"field\": \"lead\"}, \"y\": {\"axis\": {\"labelExpr\": \"format(1 / (1 + pow(2, -1*datum.value)), '.2r')\", \"orient\": \"right\", \"title\": \"Probability\"}, \"field\": \"sum\", \"scale\": {\"zero\": false}, \"type\": \"quantitative\"}}}], \"data\": {\"name\": \"data-0795accd4d3b13d0ace859297fa92965\"}, \"height\": 450, \"params\": [{\"name\": \"record_number\", \"bind\": {\"input\": \"range\", \"max\": 0, \"min\": 0, \"step\": 1}, \"value\": 0}], \"resolve\": {\"axis\": {\"y\": \"independent\"}}, \"title\": {\"text\": \"Match weights waterfall chart\", \"subtitle\": \"How each comparison contributes to the final match score\"}, \"transform\": [{\"filter\": \"(datum.record_number == record_number)\"}, {\"filter\": \"(datum.bayes_factor !== 1.0)\"}, {\"window\": [{\"op\": \"sum\", \"field\": \"log2_bayes_factor\", \"as\": \"sum\"}, {\"op\": \"lead\", \"field\": \"column_name\", \"as\": \"lead\"}], \"frame\": [null, 0]}, {\"calculate\": \"datum.column_name === \\\"Final score\\\" ? datum.sum - datum.log2_bayes_factor : datum.sum\", \"as\": \"sum\"}, {\"calculate\": \"datum.lead === null ? datum.column_name : datum.lead\", \"as\": \"lead\"}, {\"calculate\": \"datum.column_name === \\\"Final score\\\" || datum.column_name === \\\"Prior match weight\\\" ? 0 : datum.sum - datum.log2_bayes_factor\", \"as\": \"previous_sum\"}, {\"calculate\": \"datum.sum > datum.previous_sum ? datum.column_name : \\\"\\\"\", \"as\": \"top_label\"}, {\"calculate\": \"datum.sum < datum.previous_sum ? datum.column_name : \\\"\\\"\", \"as\": \"bottom_label\"}, {\"calculate\": \"datum.sum > datum.previous_sum ? datum.sum : datum.previous_sum\", \"as\": \"sum_top\"}, {\"calculate\": \"datum.sum < datum.previous_sum ? datum.sum : datum.previous_sum\", \"as\": \"sum_bottom\"}, {\"calculate\": \"(datum.sum + datum.previous_sum) / 2\", \"as\": \"center\"}, {\"calculate\": \"(datum.log2_bayes_factor > 0 ? \\\"+\\\" : \\\"\\\") + datum.log2_bayes_factor\", \"as\": \"text_log2_bayes_factor\"}, {\"calculate\": \"datum.sum < datum.previous_sum ? 4 : -4\", \"as\": \"dy\"}, {\"calculate\": \"datum.sum < datum.previous_sum ? \\\"top\\\" : \\\"bottom\\\"\", \"as\": \"baseline\"}, {\"calculate\": \"1. / (1 + pow(2, -1.*datum.sum))\", \"as\": \"prob\"}, {\"calculate\": \"0*datum.sum\", \"as\": \"zero\"}], \"width\": {\"step\": 75}, \"$schema\": \"https://vega.github.io/schema/vega-lite/v5.9.3.json\", \"datasets\": {\"data-0795accd4d3b13d0ace859297fa92965\": [{\"column_name\": \"Prior\", \"label_for_charts\": \"Starting match weight (prior)\", \"sql_condition\": null, \"log2_bayes_factor\": -24.99046221509689, \"bayes_factor\": 3.0000000900000026e-08, \"comparison_vector_value\": null, \"m_probability\": null, \"u_probability\": null, \"bayes_factor_description\": null, \"value_l\": \"\", \"value_r\": \"\", \"term_frequency_adjustment\": null, \"bar_sort_order\": 0, \"record_number\": 0}, {\"sql_condition\": \"\\\"flat_positional_l\\\" IS NULL AND \\\"flat_positional_r\\\" IS NULL\", \"label_for_charts\": \"Null\", \"bayes_factor\": 1.0, \"log2_bayes_factor\": 0.0, \"comparison_vector_value\": -1, \"bayes_factor_description\": \"If comparison level is `null` then comparison is 1 times more likely to be a match\", \"column_name\": \"flat_positional\", \"value_l\": \"None\", \"value_r\": \"None\", \"term_frequency_adjustment\": false, \"bar_sort_order\": 1, \"record_number\": 0}, {\"sql_condition\": \"\\\"numeric_1_alt_l\\\" = \\\"numeric_token_1_r\\\" OR \\\"numeric_token_1_l\\\" = \\\"numeric_1_alt_r\\\" OR \\\"numeric_1_alt_l\\\" = \\\"numeric_1_alt_r\\\"\", \"label_for_charts\": \"Exact match on alt numeric token\", \"m_probability\": 0.9, \"u_probability\": 0.01, \"bayes_factor\": 90.0, \"log2_bayes_factor\": 6.491853096329675, \"comparison_vector_value\": 3, \"bayes_factor_description\": \"If comparison level is `exact match on alt numeric token` then comparison is 90 times more likely to be a match\", \"column_name\": \"numeric_token_1\", \"value_l\": \"11A, None, 243\", \"value_r\": \"11, 11A, 243\", \"term_frequency_adjustment\": false, \"bar_sort_order\": 2, \"record_number\": 0}, {\"sql_condition\": \"\\\"numeric_1_alt_l\\\" = \\\"numeric_token_1_r\\\" OR \\\"numeric_token_1_l\\\" = \\\"numeric_1_alt_r\\\" OR \\\"numeric_1_alt_l\\\" = \\\"numeric_1_alt_r\\\"\", \"label_for_charts\": \"Term freq adjustment on numeric_token_1 with weight {cl.tf_adjustment_weight}\", \"m_probability\": null, \"u_probability\": null, \"bayes_factor\": 0.7476655069453526, \"log2_bayes_factor\": -0.4195351180929846, \"comparison_vector_value\": 3, \"bayes_factor_description\": \"Term frequency adjustment on numeric_token_1 makes comparison  1.34 times less likely to be a match\", \"column_name\": \"tf_numeric_token_1\", \"value_l\": \"11A\", \"value_r\": \"11\", \"term_frequency_adjustment\": true, \"bar_sort_order\": 3, \"record_number\": 0}, {\"sql_condition\": \"\\\"numeric_token_2_l\\\" = \\\"numeric_token_2_r\\\"\", \"label_for_charts\": \"3. Exact match\", \"m_probability\": 0.8, \"u_probability\": 0.001, \"bayes_factor\": 800.0, \"log2_bayes_factor\": 9.643856189774725, \"comparison_vector_value\": 3, \"bayes_factor_description\": \"If comparison level is `exact match` then comparison is 800 times more likely to be a match\", \"column_name\": \"numeric_token_2\", \"value_l\": \"243, 11A\", \"value_r\": \"243, 11\", \"term_frequency_adjustment\": false, \"bar_sort_order\": 4, \"record_number\": 0}, {\"sql_condition\": \"\\\"numeric_token_2_l\\\" = \\\"numeric_token_2_r\\\"\", \"label_for_charts\": \"Term freq adjustment on numeric_token_2 with weight {cl.tf_adjustment_weight}\", \"m_probability\": null, \"u_probability\": null, \"bayes_factor\": 4.6492808586762076, \"log2_bayes_factor\": 2.2170075803375036, \"comparison_vector_value\": 3, \"bayes_factor_description\": \"Term frequency adjustment on numeric_token_2 makes comparison 4.65 times more likely to be a match\", \"column_name\": \"tf_numeric_token_2\", \"value_l\": \"243\", \"value_r\": \"243\", \"term_frequency_adjustment\": true, \"bar_sort_order\": 5, \"record_number\": 0}, {\"sql_condition\": \"\\\"numeric_token_3_l\\\" IS NULL AND \\\"numeric_token_3_r\\\" IS NULL\", \"label_for_charts\": \"-1. Null\", \"bayes_factor\": 1.0, \"log2_bayes_factor\": 0.0, \"comparison_vector_value\": -1, \"bayes_factor_description\": \"If comparison level is `null` then comparison is 1 times more likely to be a match\", \"column_name\": \"numeric_token_3\", \"value_l\": \"None, 243\", \"value_r\": \"None, 243\", \"term_frequency_adjustment\": false, \"bar_sort_order\": 6, \"record_number\": 0}, {\"sql_condition\": \"\\\"numeric_token_3_l\\\" IS NULL AND \\\"numeric_token_3_r\\\" IS NULL\", \"label_for_charts\": \"-1. Null\", \"bayes_factor\": 1.0, \"log2_bayes_factor\": 0.0, \"comparison_vector_value\": -1, \"bayes_factor_description\": \"If comparison level is `null` then comparison is 1 times more likely to be a match\", \"column_name\": \"tf_numeric_token_3\", \"value_l\": \"\", \"value_r\": \"\", \"term_frequency_adjustment\": true, \"bar_sort_order\": 7, \"record_number\": 0}, {\"sql_condition\": \"(\\n    list_reduce(\\n        list_prepend(\\n            1.0,\\n            list_transform(\\n                token_rel_freq_arr_l,\\n                x -> CASE\\n                        WHEN array_contains(\\n                            list_transform(token_rel_freq_arr_r, y -> y.tok),\\n                            x.tok\\n                        )\\n                        THEN x.rel_freq\\n                        ELSE 1.0\\n                    END\\n            )\\n        ),\\n        (p, q) -> p * q\\n    ) * \\n    list_reduce(\\n        list_prepend(\\n            1.0,\\n            list_transform(\\n                list_concat(\\n                    array_filter(\\n                        token_rel_freq_arr_l,\\n                        y -> NOT array_contains(\\n                                list_transform(token_rel_freq_arr_r, x -> x.tok),\\n                                y.tok\\n                            )\\n                    ),\\n                    array_filter(\\n                        token_rel_freq_arr_r,\\n                        y -> NOT array_contains(\\n                                list_transform(token_rel_freq_arr_l, x -> x.tok),\\n                                y.tok\\n                            )\\n                    )\\n                ),\\n                x -> x.rel_freq\\n            )\\n        ),\\n        (p, q) -> p / q^0.33\\n    )) < 1e-1\", \"label_for_charts\": \" < 1e-1\", \"m_probability\": 0.25, \"u_probability\": 1, \"bayes_factor\": 0.25, \"log2_bayes_factor\": -2.0, \"comparison_vector_value\": 4, \"bayes_factor_description\": \"If comparison level is ` < 1e-1` then comparison is 4 times less likely to be a match\", \"column_name\": \"token_rel_freq_arr\", \"value_l\": \"[{'tok': 'SPITFIRE', 'rel_freq': 1.3628297256434124e-05}\\n {'tok': 'COURT', 'rel_freq': 0.006468941287334744}]\", \"value_r\": \"[{'tok': 'FLAT', 'rel_freq': 0.008480400821079197}\\n {'tok': 'A', 'rel_freq': 0.0005472532761510552}\\n {'tok': 'SPITFIRE', 'rel_freq': 1.3628297256434124e-05}\\n {'tok': 'COURT', 'rel_freq': 0.006468941287334744}\\n {'tok': 'HIGH', 'rel_freq': 0.0043571337723766436}\\n {'tok': 'STREET', 'rel_freq': 0.020841909276875153}]\", \"term_frequency_adjustment\": false, \"bar_sort_order\": 8, \"record_number\": 0}, {\"sql_condition\": \"(\\n    list_reduce(\\n        list_prepend(\\n            1.0,\\n            list_transform(\\n                common_end_tokens_l,\\n                x -> CASE\\n                        WHEN array_contains(\\n                            list_transform(common_end_tokens_r, y -> y.tok),\\n                            x.tok\\n                        )\\n                        THEN x.rel_freq\\n                        ELSE 1.0\\n                    END\\n            )\\n        ),\\n        (p, q) -> p * q\\n    ) * \\n    list_reduce(\\n        list_prepend(\\n            1.0,\\n            list_transform(\\n                list_concat(\\n                    array_filter(\\n                        common_end_tokens_l,\\n                        y -> NOT array_contains(\\n                                list_transform(common_end_tokens_r, x -> x.tok),\\n                                y.tok\\n                            )\\n                    ),\\n                    array_filter(\\n                        common_end_tokens_r,\\n                        y -> NOT array_contains(\\n                                list_transform(common_end_tokens_l, x -> x.tok),\\n                                y.tok\\n                            )\\n                    )\\n                ),\\n                x -> x.rel_freq\\n            )\\n        ),\\n        (p, q) -> p / q^0.0\\n    )) < 1e-2\", \"label_for_charts\": \"<1e-2\", \"m_probability\": 4, \"u_probability\": 1, \"bayes_factor\": 4.0, \"log2_bayes_factor\": 2.0, \"comparison_vector_value\": 1, \"bayes_factor_description\": \"If comparison level is `<1e-2` then comparison is 4 times more likely to be a match\", \"column_name\": \"common_end_tokens\", \"value_l\": \"[{'tok': 'BIRMINGHAM', 'rel_freq': 0.003520954165947083}]\", \"value_r\": \"[{'tok': 'BIRMINGHAM', 'rel_freq': 0.003520954165947083}]\", \"term_frequency_adjustment\": false, \"bar_sort_order\": 9, \"record_number\": 0}, {\"sql_condition\": \"postcode_l = postcode_r\", \"label_for_charts\": \"Exact\", \"m_probability\": 3000000.0, \"u_probability\": 1, \"bayes_factor\": 3000000.0, \"log2_bayes_factor\": 21.516531070045332, \"comparison_vector_value\": 5, \"bayes_factor_description\": \"If comparison level is `exact` then comparison is 3,000,000 times more likely to be a match\", \"column_name\": \"postcode\", \"value_l\": \"B12 0AB\", \"value_r\": \"B12 0AB\", \"term_frequency_adjustment\": false, \"bar_sort_order\": 10, \"record_number\": 0}, {\"column_name\": \"Final score\", \"label_for_charts\": \"Final score\", \"sql_condition\": null, \"log2_bayes_factor\": 14.459250603297358, \"bayes_factor\": 22525.173583020096, \"comparison_vector_value\": null, \"m_probability\": null, \"u_probability\": null, \"bayes_factor_description\": null, \"value_l\": \"\", \"value_r\": \"\", \"term_frequency_adjustment\": null, \"bar_sort_order\": 11, \"record_number\": 0}]}}, {\"mode\": \"vega-lite\"});\n",
       "</script>"
      ],
      "text/plain": [
       "alt.LayerChart(...)"
      ]
     },
     "execution_count": 4,
     "metadata": {},
     "output_type": "execute_result"
    }
   ],
   "source": [
    "import duckdb\n",
    "import pandas as pd\n",
    "\n",
    "from uk_address_matcher import clean_data_using_precomputed_rel_tok_freq, get_linker\n",
    "\n",
    "\n",
    "con = duckdb.connect(database=\":memory:\")\n",
    "\n",
    "dataset_1_dict = [\n",
    "    {\n",
    "        \"unique_id\": \"1\",\n",
    "        \"source_dataset\": \"dataset 1\",\n",
    "        \"address_concat\": \"11A spitfire court 243 birmingham\",\n",
    "        \"postcode\": \"B12 0AB\",\n",
    "    },\n",
    "]\n",
    "dataset_1 = pd.DataFrame(dataset_1_dict)\n",
    "con.register(\"dataset_1\", dataset_1)\n",
    "\n",
    "\n",
    "dataset_2_dict = [\n",
    "    {\n",
    "        \"unique_id\": \"2\",\n",
    "        \"source_dataset\": \"dataset 2\",\n",
    "        \"address_concat\": \"flat A, 11 spitfire court 243 high street birmingham\",\n",
    "        \"postcode\": \"B12 0AB\",\n",
    "    },\n",
    "]\n",
    "dataset_2 = pd.DataFrame(dataset_2_dict)\n",
    "con.register(\"dataset_2\", dataset_2)\n",
    "\n",
    "\n",
    "cleaned_1 = clean_data_using_precomputed_rel_tok_freq(dataset_1, con=con)\n",
    "cleaned_2 = clean_data_using_precomputed_rel_tok_freq(dataset_2, con=con)\n",
    "\n",
    "linker = get_linker(\n",
    "    df_addresses_to_match=cleaned_1,\n",
    "    df_addresses_to_search_within=cleaned_2,\n",
    "    con=con,\n",
    "    include_full_postcode_block=True,\n",
    "    additional_columns_to_retain=[\"original_address_concat\"],\n",
    ")\n",
    "\n",
    "\n",
    "res = linker.inference.compare_two_records(\n",
    "    record_1=cleaned_1, record_2=cleaned_2, include_found_by_blocking_rules=True\n",
    ")\n",
    "\n",
    "res_ddb = res.as_duckdbpyrelation()\n",
    "res_ddb.show(max_width=400)\n",
    "\n",
    "recs = res_ddb.df().to_dict(orient=\"records\")\n",
    "linker.visualisations.waterfall_chart(recs)\n"
   ]
  },
  {
   "cell_type": "code",
   "execution_count": null,
   "metadata": {},
   "outputs": [],
   "source": []
  }
 ],
 "metadata": {
  "kernelspec": {
   "display_name": ".venv",
   "language": "python",
   "name": "python3"
  },
  "language_info": {
   "codemirror_mode": {
    "name": "ipython",
    "version": 3
   },
   "file_extension": ".py",
   "mimetype": "text/x-python",
   "name": "python",
   "nbconvert_exporter": "python",
   "pygments_lexer": "ipython3",
   "version": "3.12.8"
  }
 },
 "nbformat": 4,
 "nbformat_minor": 2
}
