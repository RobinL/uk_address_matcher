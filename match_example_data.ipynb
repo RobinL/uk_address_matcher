{
 "cells": [
  {
   "cell_type": "markdown",
   "metadata": {},
   "source": [
    "[![Open In Colab](https://colab.research.google.com/assets/colab-badge.svg)](https://colab.research.google.com/github/RobinL/uk_address_matcher/blob/main/match_example_data.ipynb)\n"
   ]
  },
  {
   "cell_type": "code",
   "execution_count": 1,
   "metadata": {},
   "outputs": [],
   "source": [
    "!pip install --pre uk_address_matcher\n",
    "\n"
   ]
  },
  {
   "cell_type": "code",
   "execution_count": 2,
   "metadata": {},
   "outputs": [
    {
     "name": "stdout",
     "output_type": "stream",
     "text": [
      "Length of FHRS dataset: 5,000\n",
      "Length of Companies House dataset: 21,952\n",
      "┌───────────┬────────────────┬────────────────────────────────────────────────────────────────────────────────┬──────────┐\n",
      "│ unique_id │ source_dataset │                                 address_concat                                 │ postcode │\n",
      "│  varchar  │    varchar     │                                    varchar                                     │ varchar  │\n",
      "├───────────┼────────────────┼────────────────────────────────────────────────────────────────────────────────┼──────────┤\n",
      "│ 1543406   │ fhrs           │ 1 OAK CHILTON DAY CENTRE UNIT 2 MARTINS ROAD CHILTON INDUSTRIAL ESTATE SUDBURY │ CO10 2FT │\n",
      "│ 1395196   │ fhrs           │ 38 STATION ROAD SUDBURY SUFFOLK                                                │ CO10 2SS │\n",
      "│ 1394874   │ fhrs           │ 33 SWAN STREET BOXFORD SUDBURY SUFFOLK                                         │ CO10 5NZ │\n",
      "│ 1649158   │ fhrs           │ 11A FRIARS STREET SUDBURY SUFFOLK                                              │ CO10 2AA │\n",
      "│ 1689685   │ fhrs           │ 13-14 MARKET PLACE LAVENHAM SUDBURY SUFFOLK                                    │ CO10 9QZ │\n",
      "└───────────┴────────────────┴────────────────────────────────────────────────────────────────────────────────┴──────────┘\n",
      "\n",
      "┌───────────┬─────────────────┬────────────────────────────────────────────────────┬──────────┐\n",
      "│ unique_id │ source_dataset  │                   address_concat                   │ postcode │\n",
      "│  varchar  │     varchar     │                      varchar                       │ varchar  │\n",
      "├───────────┼─────────────────┼────────────────────────────────────────────────────┼──────────┤\n",
      "│ 06911165  │ companies_house │ NORFOLK HOUSE 22 -24 MARKET PLACE SWAFFHAM NORFOLK │ PE37 7QH │\n",
      "│ 13048420  │ companies_house │ 10-11 THURLOW STREET  BEDFORD                      │ MK40 1LR │\n",
      "│ 12870226  │ companies_house │ 69 RUNWELL ROAD  WICKFORD                          │ SS11 7HL │\n",
      "│ 09146129  │ companies_house │ 249 ONGAR ROAD  BRENTWOOD                          │ CM15 9DZ │\n",
      "│ 12061693  │ companies_house │ C/O CJAS 105 HIGH STREET BRENTWOOD                 │ CM14 4RR │\n",
      "└───────────┴─────────────────┴────────────────────────────────────────────────────┴──────────┘\n",
      "\n"
     ]
    }
   ],
   "source": [
    "import duckdb\n",
    "import pandas as pd\n",
    "\n",
    "from uk_address_matcher.post_linkage.analyse_results import (\n",
    "    best_matches_summary,\n",
    ")\n",
    "from uk_address_matcher.post_linkage.identify_distinguishing_tokens import (\n",
    "    improve_predictions_using_distinguishing_tokens,\n",
    ")\n",
    "from uk_address_matcher import clean_data_using_precomputed_rel_tok_freq, get_linker\n",
    "import time\n",
    "\n",
    "pd.options.display.max_colwidth = 1000\n",
    "\n",
    "pd.options.display.max_colwidth = 1000\n",
    "\n",
    "# -----------------------------------------------------------------------------\n",
    "# Step 1: Load in some example data.  If using your own data, it must be in\n",
    "# the same format as the example data.\n",
    "# -----------------------------------------------------------------------------\n",
    "# Any additional columns should be retained as-is by the cleaning code\n",
    "\n",
    "p_fhrs = \"https://github.com/RobinL/uk_address_matcher/raw/main/example_data/fhrs_addresses_sample.parquet\"\n",
    "p_ch = \"https://github.com/RobinL/uk_address_matcher/raw/main/example_data/companies_house_addresess_postcode_overlap.parquet\"\n",
    "\n",
    "con = duckdb.connect(database=\":memory:\")\n",
    "con.sql(f\"CREATE TABLE df_fhrs AS SELECT * FROM read_parquet('{p_fhrs}')\")\n",
    "con.sql(f\"CREATE TABLE df_ch AS SELECT * FROM read_parquet('{p_ch}')\")\n",
    "df_fhrs = con.table(\"df_fhrs\")\n",
    "df_ch = con.table(\"df_ch\")\n",
    "\n",
    "# Display length of the dataset\n",
    "print(f\"Length of FHRS dataset: {len(df_fhrs.df()):,.0f}\")\n",
    "print(f\"Length of Companies House dataset: {len(df_ch.df()):,.0f}\")\n",
    "\n",
    "df_fhrs.limit(5).show(max_width=500)\n",
    "df_ch.limit(5).show(max_width=500)\n"
   ]
  },
  {
   "cell_type": "code",
   "execution_count": 3,
   "metadata": {},
   "outputs": [],
   "source": [
    "# -----------------------------------------------------------------------------\n",
    "# Step 2: Clean the data/feature engineering to prepare for matching model\n",
    "# -----------------------------------------------------------------------------\n",
    "\n",
    "df_fhrs_clean = clean_data_using_precomputed_rel_tok_freq(df_fhrs, con=con)\n",
    "df_ch_clean = clean_data_using_precomputed_rel_tok_freq(df_ch, con=con)\n"
   ]
  },
  {
   "cell_type": "code",
   "execution_count": 4,
   "metadata": {},
   "outputs": [
    {
     "name": "stderr",
     "output_type": "stream",
     "text": [
      "Blocking time: 0.14 seconds\n",
      "Predict time: 0.56 seconds\n"
     ]
    }
   ],
   "source": [
    "linker = get_linker(\n",
    "    df_addresses_to_match=df_fhrs_clean,\n",
    "    df_addresses_to_search_within=df_ch_clean,\n",
    "    con=con,\n",
    "    include_full_postcode_block=True,\n",
    "    additional_columns_to_retain=[\"original_address_concat\"],\n",
    ")\n",
    "\n",
    "df_predict = linker.inference.predict(\n",
    "    threshold_match_weight=-50, experimental_optimisation=True\n",
    ")\n",
    "df_predict_ddb = df_predict.as_duckdbpyrelation()"
   ]
  },
  {
   "cell_type": "code",
   "execution_count": 5,
   "metadata": {},
   "outputs": [
    {
     "name": "stdout",
     "output_type": "stream",
     "text": [
      "┌─────────────┬─────────────┬─────────────────────┬──────────────────────┬──────────────────────┬────────────────────┬─────────────────────┬──────────────────────┬──────────────────────┬──────────────────────┬──────────────────────┬───────────────────────────┬───────────────────────────────────────────┬──────────────────────────────────────────────────┬────────────────────────────────────────────────────────────────┬────────────┬─────────────────────────────────────────────────────┬────────────┐\n",
      "│ unique_id_r │ unique_id_l │    mw_adjustment    │ match_weight_origi…  │ match_probability_…  │    match_weight    │  match_probability  │ overlapping_tokens…  │ tokens_elsewhere_i…  │    missing_tokens    │ overlapping_bigram…  │ bigrams_elsewhere_in_bl…  │ overlapping_bigrams_this_l_and_r_filtered │ bigrams_elsewhere_in_block_but_not_this_filtered │                   original_address_concat_l                    │ postcode_l │              original_address_concat_r              │ postcode_r │\n",
      "│   varchar   │   varchar   │       double        │        double        │        double        │       double       │       double        │ map(varchar, ubigi…  │ map(varchar, ubigi…  │      varchar[]       │ map(varchar[], ubi…  │  map(varchar[], ubigint)  │          map(varchar[], ubigint)          │             map(varchar[], ubigint)              │                            varchar                             │  varchar   │                       varchar                       │  varchar   │\n",
      "├─────────────┼─────────────┼─────────────────────┼──────────────────────┼──────────────────────┼────────────────────┼─────────────────────┼──────────────────────┼──────────────────────┼──────────────────────┼──────────────────────┼───────────────────────────┼───────────────────────────────────────────┼──────────────────────────────────────────────────┼────────────────────────────────────────────────────────────────┼────────────┼─────────────────────────────────────────────────────┼────────────┤\n",
      "│ 100099      │ 11170294    │ -1.2975510204081633 │    -4.47393114505156 │  0.04306220219317327 │ -5.771482165459724 │ 0.04306220219317327 │ {9BA=5, BILLERICAY…  │ {}                   │ [1ST, FLOOR, 39, E…  │ {[CM12, 9BA]=5, [H…  │ {[BILLERICAY, CM12]=2}    │ {[STREET, BILLERICAY]=5}                  │ {[BILLERICAY, CM12]=2}                           │ 1ST FLOOR 39 HIGH STREET BILLERICAY ESSEX                      │ CM12 9BA   │ 27 HIGH STREET BILLERICAY ESSEX                     │ CM12 9BA   │\n",
      "│ 100099      │ 15456441    │ -1.0975510204081633 │    -4.47393114505156 │  0.04306220219317327 │ -5.571482165459724 │ 0.04306220219317327 │ {9BA=5, BILLERICAY…  │ {}                   │ [39, ESSEX]          │ {[CM12, 9BA]=5, [H…  │ {[BILLERICAY, CM12]=2}    │ {[STREET, BILLERICAY]=5}                  │ {[BILLERICAY, CM12]=2}                           │ 39 HIGH STREET BILLERICAY ESSEX                                │ CM12 9BA   │ 27 HIGH STREET BILLERICAY ESSEX                     │ CM12 9BA   │\n",
      "│ 100099      │ 14640995    │ -1.2975510204081633 │    -4.47393114505156 │  0.04306220219317327 │ -5.771482165459724 │ 0.04306220219317327 │ {9BA=5, BILLERICAY…  │ {}                   │ [FIRST, FLOOR, 39,…  │ {[CM12, 9BA]=5, [H…  │ {[BILLERICAY, CM12]=2}    │ {[STREET, BILLERICAY]=5}                  │ {[BILLERICAY, CM12]=2}                           │ FIRST FLOOR 39 HIGH STREET HIGH STREET BILLERICAY ESSEX        │ CM12 9BA   │ 27 HIGH STREET BILLERICAY ESSEX                     │ CM12 9BA   │\n",
      "│   ·         │    ·        │           ·         │            ·         │            ·         │          ·         │          ·          │          ·           │ ·                    │          ·           │          ·           │ ·                         │           ·                               │ ·                                                │                            ·                                   │    ·       │                ·                                    │    ·       │\n",
      "│   ·         │    ·        │           ·         │            ·         │            ·         │          ·         │          ·          │          ·           │ ·                    │          ·           │          ·           │ ·                         │           ·                               │ ·                                                │                            ·                                   │    ·       │                ·                                    │    ·       │\n",
      "│   ·         │    ·        │           ·         │            ·         │            ·         │          ·         │          ·          │          ·           │ ·                    │          ·           │          ·           │ ·                         │           ·                               │ ·                                                │                            ·                                   │    ·       │                ·                                    │    ·       │\n",
      "│ 62485       │ 09880105    │   3.770833333333333 │  -1.2239311450515604 │   0.2997760697673172 │ 2.5469021882817726 │ 0.29977606976731724 │ {9TA=4, BILLERICAY…  │ {}                   │ [1, BROOK, COTTAGE…  │ {[BILLERICAY, CM12…  │ {}                        │ {[BILLERICAY, CM12]=1}                    │ {}                                               │ 1 BROOK COTTAGE LAINDON COMMON ROAD LITTLE BURSTEAD BILLERICAY │ CM12 9TA   │ THE DUKES HEAD LAINDON COMMON ROAD BILLERICAY ESSEX │ CM12 9TA   │\n",
      "│ 62485       │ 14297985    │             -2.5625 │    -4.47393114505156 │  0.04306220219317327 │  -7.03643114505156 │ 0.04306220219317327 │ {9TA=4, CM12=4, CO…  │ {BILLERICAY=3}       │ [1, BROOK, COTTAGE…  │ {[CM12, 9TA]=4, [C…  │ {[BILLERICAY, CM12]=1}    │ {}                                        │ {[BILLERICAY, CM12]=1}                           │ 1 BROOK COTTAGES LAINDON COMMON ROAD LITTLE BURSTEAD           │ CM12 9TA   │ THE DUKES HEAD LAINDON COMMON ROAD BILLERICAY ESSEX │ CM12 9TA   │\n",
      "├─────────────┴─────────────┴─────────────────────┴──────────────────────┴──────────────────────┴────────────────────┴─────────────────────┴──────────────────────┴──────────────────────┴──────────────────────┴──────────────────────┴───────────────────────────┴───────────────────────────────────────────┴──────────────────────────────────────────────────┴────────────────────────────────────────────────────────────────┴────────────┴─────────────────────────────────────────────────────┴────────────┤\n",
      "│ ? rows (>9999 rows, 5 shown)                                                                                                                                                                                                                                                                                                                                                                                                                                                                          18 columns │\n",
      "└──────────────────────────────────────────────────────────────────────────────────────────────────────────────────────────────────────────────────────────────────────────────────────────────────────────────────────────────────────────────────────────────────────────────────────────────────────────────────────────────────────────────────────────────────────────────────────────────────────────────────────────────────────────────────────────────────────────────────────────────────────────────────┘\n",
      "\n",
      "Time taken: 0.6915948390960693 seconds\n"
     ]
    }
   ],
   "source": [
    "start_time = time.time()\n",
    "df_predict_improved = improve_predictions_using_distinguishing_tokens(\n",
    "    df_predict=df_predict_ddb,\n",
    "    con=con,\n",
    "    match_weight_threshold=-20,\n",
    ")\n",
    "\n",
    "df_predict_improved.show(max_width=500, max_rows=5)\n",
    "\n",
    "end_time = time.time()\n",
    "print(f\"Time taken: {end_time - start_time} seconds\")"
   ]
  },
  {
   "cell_type": "code",
   "execution_count": 6,
   "metadata": {},
   "outputs": [
    {
     "name": "stdout",
     "output_type": "stream",
     "text": [
      "┌─────────────────────────────┬───────┬────────────┐\n",
      "│ distinguishability_category │ count │ percentage │\n",
      "│           varchar           │ int64 │  varchar   │\n",
      "├─────────────────────────────┼───────┼────────────┤\n",
      "│ 01: One match only          │   749 │ 14.98%     │\n",
      "│ 02: Distinguishability > 10 │   641 │ 12.82%     │\n",
      "│ 03: Distinguishability > 5  │   199 │ 3.98%      │\n",
      "│ 04: Distinguishability > 1  │   643 │ 12.86%     │\n",
      "│ 05: Distinguishability > 0  │   132 │ 2.64%      │\n",
      "│ 06.: Distinguishability = 0 │  1535 │ 30.70%     │\n",
      "│ 99: No match                │  1101 │ 22.02%     │\n",
      "└─────────────────────────────┴───────┴────────────┘\n",
      "\n",
      "┌─────────────────────────────┬───────┬────────────┐\n",
      "│ distinguishability_category │ count │ percentage │\n",
      "│           varchar           │ int64 │  varchar   │\n",
      "├─────────────────────────────┼───────┼────────────┤\n",
      "│ 01: One match only          │   751 │ 15.02%     │\n",
      "│ 02: Distinguishability > 10 │   860 │ 17.20%     │\n",
      "│ 03: Distinguishability > 5  │   220 │ 4.40%      │\n",
      "│ 04: Distinguishability > 1  │   535 │ 10.70%     │\n",
      "│ 05: Distinguishability > 0  │   448 │ 8.96%      │\n",
      "│ 06.: Distinguishability = 0 │  1083 │ 21.66%     │\n",
      "│ 99: No match                │  1103 │ 22.06%     │\n",
      "└─────────────────────────────┴───────┴────────────┘\n",
      "\n"
     ]
    }
   ],
   "source": [
    "dsum_1 = best_matches_summary(\n",
    "    df_predict=df_predict_ddb, df_addresses_to_match=df_fhrs, con=con\n",
    ")\n",
    "dsum_1.show(max_width=500, max_rows=20)\n",
    "\n",
    "dsum_2 = best_matches_summary(\n",
    "    df_predict=df_predict_improved, df_addresses_to_match=df_fhrs, con=con\n",
    ")\n",
    "dsum_2.show(max_width=500, max_rows=20)\n"
   ]
  },
  {
   "cell_type": "code",
   "execution_count": 7,
   "metadata": {},
   "outputs": [
    {
     "name": "stdout",
     "output_type": "stream",
     "text": [
      "┌─────────────┬─────────────┬───────────────────────────────────────────────────────────────────────────┬────────────┬────────────────────────────────────────────────────────────────────────────┬────────────┬────────────────────┬────────────────────┬────────────────────┬─────────────────────────────┐\n",
      "│ unique_id_r │ unique_id_l │                             address_concat_r                              │ postcode_r │                         original_address_concat_l                          │ postcode_l │ match_probability  │    match_weight    │ distinguishability │ distinguishability_category │\n",
      "│   varchar   │   varchar   │                                  varchar                                  │  varchar   │                                  varchar                                   │  varchar   │       double       │       double       │       double       │           varchar           │\n",
      "├─────────────┼─────────────┼───────────────────────────────────────────────────────────────────────────┼────────────┼────────────────────────────────────────────────────────────────────────────┼────────────┼────────────────────┼────────────────────┼────────────────────┼─────────────────────────────┤\n",
      "│ 1395377     │ 11203356    │ CORNARD KEBAB HOUSE UNIT 6 APPLEGATE CENTRE APPLEGATE MEWS GREAT CORNARD  │ CO10 0GL   │ UNIT 6 APPLEGATE CENTRE APPLEGATE MEWS GREAT CORNARD SUDBURY               │ CO10 0GL   │ 0.9999838849194385 │ 52.571205824449194 │               NULL │ 01: One match only          │\n",
      "│ 1606861     │ 14184781    │ BLACK SWAN 25 NORWICH ROAD HORSHAM ST FAITH NORFOLK                       │ NR10 3HJ   │ BLACK SWAN 25 NORWICH ROAD HORSHAM ST FAITH NORWICH NORFOLK                │ NR10 3HJ   │  0.999995763176494 │  51.49857942547554 │               NULL │ 01: One match only          │\n",
      "│ 300811      │ 03372665    │ GREAT NOTLEY COUNTRY PARK GREAT NOTLEY BRAINTREE ESSEX                    │ CM77 7FS   │ GREAT NOTLEY COUNTRY PARK GREAT NOTLEY BRAINTREE ESSEX                     │ CM77 7FS   │ 0.9999995240925897 │   46.4028150588879 │               NULL │ 01: One match only          │\n",
      "│ 301202      │ 01169125    │ GREAT SLAMSEYS FARM BLACKLEY LANE GREAT NOTLEY BRAINTREE                  │ CM77 7QW   │ GREAT SLAMSEYS BLACKLEY LANE GREAT NOTLEY BRAINTREE ESSEX                  │ CM77 7QW   │ 0.9999759892349843 │  45.99592446327939 │               NULL │ 01: One match only          │\n",
      "│ 832476      │ 04242595    │ CHURCH FARM HOUSE CHURCH ROAD  NORTH LOPHAM NORFOLK                       │ IP22 2LP   │ CHURCH FARM HOUSE CHURCH ROAD NORTH LOPHAM DISS NORFOLK                    │ IP22 2LP   │ 0.9999759892349843 │ 45.895924463279385 │               NULL │ 01: One match only          │\n",
      "│ 965856      │ 12073107    │ THE FORDHAM ARMS TEMPLARS WAY SHARNBROOK BEDFORD                          │ MK44 1PX   │ THE FORDHAM ARMS TEMPLARS WAY SHARNBROOK BEDFORD                           │ MK44 1PX   │ 0.9999996634825961 │   45.4028150588879 │               NULL │ 01: One match only          │\n",
      "│ 301064      │ 07292072    │ BRAINTREE COMMUNITY HOSPITAL CHADWICK DRIVE BRAINTREE ESSEX               │ CM7 2QU    │ BRAINTREE COMMUNITY HOSPITAL CHADWICK DRIVE BRAINTREE ESSEX                │ CM7 2QU    │ 0.9999994340475725 │   45.4028150588879 │               NULL │ 01: One match only          │\n",
      "│ 1196661     │ 12073107    │ THE FORDHAM ARMS TEMPLARS WAY SHARNBROOK BEDFORD                          │ MK44 1PX   │ THE FORDHAM ARMS TEMPLARS WAY SHARNBROOK BEDFORD                           │ MK44 1PX   │ 0.9999996634825961 │   45.4028150588879 │               NULL │ 01: One match only          │\n",
      "│ 832242      │ 01957352    │ BAWDESWELL GARDEN CENTRE NORWICH ROAD  BAWDESWELL NORFOLK                 │ NR20 4RZ   │ THE BAWDESWELL GARDEN CENTRE NORWICH ROAD BAWDESWELL DEREHAM NORFOLK       │ NR20 4RZ   │ 0.9999987977084683 │  44.11578007161033 │               NULL │ 01: One match only          │\n",
      "│ 431290      │ 07695916    │ ST HELENS ROMAN CATHOLIC INFANT SCHOOL SAWYERS HALL LANE BRENTWOOD ESSEX  │ CM15 9BY   │ ST HELENS CATHOLIC JUNIOR SCHOOL ACADEMY SAWYERS HALL LANE BRENTWOOD ESSEX │ CM15 9BY   │ 0.9999928614364075 │  43.69592446327939 │               NULL │ 01: One match only          │\n",
      "│   ·         │  ·          │                       ·                                                   │    ·       │  ·                                                                         │  ·         │                 ·  │                 ·  │                 ·  │      ·                      │\n",
      "│   ·         │  ·          │                       ·                                                   │    ·       │  ·                                                                         │  ·         │                 ·  │                 ·  │                 ·  │      ·                      │\n",
      "│   ·         │  ·          │                       ·                                                   │    ·       │  ·                                                                         │  ·         │                 ·  │                 ·  │                 ·  │      ·                      │\n",
      "│ 1300485     │ NULL        │ SOUTH ESSEX COLLEGE COLLEGE WAY BASILDON ESSEX                            │ SS14 1GP   │ NULL                                                                       │ NULL       │               NULL │               NULL │               NULL │ 99: No match                │\n",
      "│ 1215265     │ NULL        │ AUTOGLASS LTD 1 PRIORY BUSINESS PARK CARDINGTON BEDFORD                   │ MK44 3SG   │ NULL                                                                       │ NULL       │               NULL │               NULL │               NULL │ 99: No match                │\n",
      "│ 832289      │ NULL        │ WESTFIELDS WESTFIELD ROAD  SWAFFHAM NORFOLK                               │ PE37 7HE   │ NULL                                                                       │ NULL       │               NULL │               NULL │               NULL │ 99: No match                │\n",
      "│ 1677131     │ NULL        │  91 CHURCH ROAD VANGE BASILDON                                            │ SS16 4AH   │ NULL                                                                       │ NULL       │               NULL │               NULL │               NULL │ 99: No match                │\n",
      "│ 80862       │ NULL        │  69 SOUTHEND ROAD WICKFORD ESSEX                                          │ SS11 8DX   │ NULL                                                                       │ NULL       │               NULL │               NULL │               NULL │ 99: No match                │\n",
      "│ 1058998     │ NULL        │ BEDFORD CENTRAL LIBRARY HARPUR STREET BEDFORD                             │ MK40 1PG   │ NULL                                                                       │ NULL       │               NULL │               NULL │               NULL │ 99: No match                │\n",
      "│ 832341      │ NULL        │ CROWN HOUSE STATION ROAD  LITTLE DUNHAM NORFOLK                           │ PE32 2DJ   │ NULL                                                                       │ NULL       │               NULL │               NULL │               NULL │ 99: No match                │\n",
      "│ 1598554     │ NULL        │ 101 CROSS STREET SUDBURY SUFFOLK                                          │ CO10 2DT   │ NULL                                                                       │ NULL       │               NULL │               NULL │               NULL │ 99: No match                │\n",
      "│ 300361      │ NULL        │ CLOCKHOUSE WAY BRAINTREE ESSEX                                            │ CM7 6RD    │ NULL                                                                       │ NULL       │               NULL │               NULL │               NULL │ 99: No match                │\n",
      "│ 1395022     │ NULL        │ HINTLESHAM COMMUNITY LUNCH COMMUNITY CENTRE TIMPERLEYS HINTLESHAM IPSWICH │ IP8 3PS    │ NULL                                                                       │ NULL       │               NULL │               NULL │               NULL │ 99: No match                │\n",
      "├─────────────┴─────────────┴───────────────────────────────────────────────────────────────────────────┴────────────┴────────────────────────────────────────────────────────────────────────────┴────────────┴────────────────────┴────────────────────┴────────────────────┴─────────────────────────────┤\n",
      "│ 5000 rows (20 shown)                                                                                                                                                                                                                                                                           10 columns │\n",
      "└───────────────────────────────────────────────────────────────────────────────────────────────────────────────────────────────────────────────────────────────────────────────────────────────────────────────────────────────────────────────────────────────────────────────────────────────────────────┘\n",
      "\n"
     ]
    }
   ],
   "source": [
    "from uk_address_matcher.post_linkage.analyse_results import (\n",
    "    best_matches_with_distinguishability,\n",
    ")\n",
    "\n",
    "best_matches_with_distinguishability(\n",
    "    df_predict=df_predict_improved,\n",
    "    df_addresses_to_match=df_fhrs,\n",
    "    con=con,\n",
    ").show(max_width=500)\n"
   ]
  }
 ],
 "metadata": {
  "kernelspec": {
   "display_name": ".venv",
   "language": "python",
   "name": "python3"
  },
  "language_info": {
   "codemirror_mode": {
    "name": "ipython",
    "version": 3
   },
   "file_extension": ".py",
   "mimetype": "text/x-python",
   "name": "python",
   "nbconvert_exporter": "python",
   "pygments_lexer": "ipython3",
   "version": "3.12.8"
  }
 },
 "nbformat": 4,
 "nbformat_minor": 2
}
